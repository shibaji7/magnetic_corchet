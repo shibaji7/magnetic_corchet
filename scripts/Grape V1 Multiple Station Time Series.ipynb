{
 "cells": [
  {
   "cell_type": "markdown",
   "metadata": {},
   "source": [
    "# Grape V1 Multiple Station Time Series Show Solar Flare Impacts\n",
    "The purpose of this notebook is to provide a one-stop shop for plotting data from the prototype of the Grape 1 Low-Cost Personal Space Weather Station. \n",
    "\n",
    "This notebook was created by Nathaniel Frissell W2NAF and Kristina Collins KD8OXT. Code was contributed by Aidan Montare KB3UMD, Bob Benedict KD8CGH. Hardware designed by John Gibbons. Node maintainers are listed in the `nodelist.csv` file which accompanies this notebook.\n",
    "\n",
    "## Instructions:\n",
    "Data is permanently stored at [![DOI](https://zenodo.org/badge/DOI/10.5281/zenodo.6622112.svg)](https://doi.org/10.5281/zenodo.6622112). To use this notebook, download the data from the repository and unzip it into the `data/` directory."
   ]
  },
  {
   "cell_type": "code",
   "execution_count": 1,
   "metadata": {},
   "outputs": [],
   "source": [
    "# pip install hamsci_psws\n",
    "\n",
    "# Install from https://github.com/HamSCI/hamsci_psws"
   ]
  },
  {
   "cell_type": "code",
   "execution_count": 2,
   "metadata": {},
   "outputs": [
    {
     "ename": "ModuleNotFoundError",
     "evalue": "No module named 'hamsci_psws'",
     "output_type": "error",
     "traceback": [
      "\u001b[0;31m---------------------------------------------------------------------------\u001b[0m",
      "\u001b[0;31mModuleNotFoundError\u001b[0m                       Traceback (most recent call last)",
      "\u001b[0;32m<ipython-input-2-eabb5ffbfe4b>\u001b[0m in \u001b[0;36m<module>\u001b[0;34m\u001b[0m\n\u001b[1;32m      6\u001b[0m \u001b[0;32mfrom\u001b[0m \u001b[0mmatplotlib\u001b[0m \u001b[0;32mimport\u001b[0m \u001b[0mpyplot\u001b[0m \u001b[0;32mas\u001b[0m \u001b[0mplt\u001b[0m\u001b[0;34m\u001b[0m\u001b[0;34m\u001b[0m\u001b[0m\n\u001b[1;32m      7\u001b[0m \u001b[0;34m\u001b[0m\u001b[0m\n\u001b[0;32m----> 8\u001b[0;31m \u001b[0;32mfrom\u001b[0m \u001b[0mhamsci_psws\u001b[0m \u001b[0;32mimport\u001b[0m \u001b[0mgrape1\u001b[0m\u001b[0;34m\u001b[0m\u001b[0;34m\u001b[0m\u001b[0m\n\u001b[0m",
      "\u001b[0;31mModuleNotFoundError\u001b[0m: No module named 'hamsci_psws'"
     ]
    }
   ],
   "source": [
    "import datetime\n",
    "import pytz\n",
    "\n",
    "import numpy as np\n",
    "import matplotlib as mpl\n",
    "from matplotlib import pyplot as plt\n",
    "\n",
    "from hamsci_psws import grape1"
   ]
  },
  {
   "cell_type": "code",
   "execution_count": null,
   "metadata": {},
   "outputs": [],
   "source": [
    "mpl.rcParams['font.size']        = 18\n",
    "mpl.rcParams['font.weight']      = 'bold'\n",
    "mpl.rcParams['axes.labelweight'] = 'bold'\n",
    "mpl.rcParams['axes.titleweight'] = 'bold'\n",
    "mpl.rcParams['axes.grid']        = True\n",
    "mpl.rcParams['grid.linestyle']   = ':'\n",
    "mpl.rcParams['figure.figsize']   = np.array([15, 8])\n",
    "mpl.rcParams['axes.xmargin']     = 0"
   ]
  },
  {
   "cell_type": "code",
   "execution_count": null,
   "metadata": {},
   "outputs": [],
   "source": [
    "freq            = 10e6 # MHz\n",
    "sTime           = datetime.datetime(2021,10,28,0, tzinfo=pytz.UTC)\n",
    "eTime           = datetime.datetime(2021,10,29,0, tzinfo=pytz.UTC)\n",
    "\n",
    "inventory       = grape1.DataInventory()\n",
    "inventory.filter(freq=freq,sTime=sTime,eTime=eTime)\n",
    "grape_nodes     = grape1.GrapeNodes(logged_nodes=inventory.logged_nodes)\n",
    "inventory.logged_nodes"
   ]
  },
  {
   "cell_type": "code",
   "execution_count": null,
   "metadata": {},
   "outputs": [],
   "source": [
    "node_nrs        = inventory.get_nodes()\n",
    "gds = []\n",
    "for node in node_nrs:\n",
    "    \n",
    "    # Skip nodes 9 and 10 because they were not working correctly during the 28 Oct 2021 Solar Flare event.\n",
    "    # if node in [9,10]:\n",
    "    #     continue\n",
    "    \n",
    "    print('================================================================================')\n",
    "    print('Loading Node {!s}'.format(node))\n",
    "    gd = grape1.Grape1Data(node,freq,sTime,eTime,inventory=inventory,grape_nodes=grape_nodes)\n",
    "    gd.process_data()\n",
    "    gds.append(gd)\n",
    "    print()\n",
    "\n",
    "mp          = grape1.GrapeMultiplot(gds)"
   ]
  },
  {
   "cell_type": "code",
   "execution_count": null,
   "metadata": {},
   "outputs": [],
   "source": [
    "# WWV Coordinates\n",
    "solar_lat   =   40.6683\n",
    "solar_lon   = -105.0384\n",
    "\n",
    "color_dct   = {'ckey':'lon'}\n",
    "xkey        = 'UTC'\n",
    "events      = [{'datetime':datetime.datetime(2021,10,28,14,29),'label':'X1 Solar Flare'}]\n",
    "mp.multiplot('filtered',sTime = sTime, eTime=eTime, color_dct=color_dct,xkey=xkey,solar_lat=solar_lat,solar_lon=solar_lon,events=events,plot_GOES=True)\n",
    "plt.show()"
   ]
  },
  {
   "cell_type": "code",
   "execution_count": null,
   "metadata": {},
   "outputs": [],
   "source": []
  }
 ],
 "metadata": {
  "celltoolbar": "Edit Metadata",
  "kernelspec": {
   "display_name": "Python 3",
   "language": "python",
   "name": "python3"
  },
  "language_info": {
   "codemirror_mode": {
    "name": "ipython",
    "version": 3
   },
   "file_extension": ".py",
   "mimetype": "text/x-python",
   "name": "python",
   "nbconvert_exporter": "python",
   "pygments_lexer": "ipython3",
   "version": "3.7.6"
  },
  "widgets": {
   "application/vnd.jupyter.widget-state+json": {
    "state": {},
    "version_major": 2,
    "version_minor": 0
   }
  }
 },
 "nbformat": 4,
 "nbformat_minor": 4
}
